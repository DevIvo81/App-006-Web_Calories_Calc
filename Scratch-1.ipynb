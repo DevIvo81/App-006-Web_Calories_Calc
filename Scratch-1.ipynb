{
 "cells": [
  {
   "cell_type": "code",
   "execution_count": 1,
   "metadata": {},
   "outputs": [
    {
     "ename": "ModuleNotFoundError",
     "evalue": "No module named 'requests'",
     "output_type": "error",
     "traceback": [
      "\u001b[1;31m---------------------------------------------------------------------------\u001b[0m",
      "\u001b[1;31mModuleNotFoundError\u001b[0m                       Traceback (most recent call last)",
      "Cell \u001b[1;32mIn[1], line 1\u001b[0m\n\u001b[1;32m----> 1\u001b[0m \u001b[39mimport\u001b[39;00m \u001b[39mrequests\u001b[39;00m\n",
      "\u001b[1;31mModuleNotFoundError\u001b[0m: No module named 'requests'"
     ]
    }
   ],
   "source": [
    "import requests"
   ]
  },
  {
   "cell_type": "code",
   "execution_count": 79,
   "metadata": {},
   "outputs": [],
   "source": [
    "headers = {\n",
    "    'dnt': '1',\n",
    "    'upgrade-insecure-requests': '1',\n",
    "    'user-agent': 'Mozilla/5.0 (Macintosh; Intel Mac OS X 10_15_4) AppleWebKit/537.36 (KHTML, like Gecko) Chrome/83.0.4103.61 Safari/537.36',\n",
    "    'accept': 'text/html,application/xhtml+xml,application/xml;q=0.9,image/webp,image/apng,*/*;q=0.8,application/signed-exchange;v=b3;q=0.9',\n",
    "    'sec-fetch-site': 'same-origin',\n",
    "    'sec-fetch-mode': 'navigate',\n",
    "    'sec-fetch-user': '?1',\n",
    "    'sec-fetch-dest': 'document',\n",
    "    'referer': 'https://www.amazon.com/',\n",
    "    'accept-language': 'en-GB,en-US;q=0.9,en;q=0.8',\n",
    "}"
   ]
  },
  {
   "cell_type": "code",
   "execution_count": 80,
   "metadata": {},
   "outputs": [],
   "source": [
    "r = requests.get(\n",
    "    \"https://www.timeanddate.com/weather/croatia/zagreb\",\n",
    "    headers=headers)"
   ]
  },
  {
   "cell_type": "code",
   "execution_count": 81,
   "metadata": {},
   "outputs": [
    {
     "name": "stdout",
     "output_type": "stream",
     "text": [
      "<class 'requests.models.Response'>\n"
     ]
    }
   ],
   "source": [
    "print(type(r))"
   ]
  },
  {
   "cell_type": "code",
   "execution_count": 82,
   "metadata": {},
   "outputs": [],
   "source": [
    "c = r.text"
   ]
  },
  {
   "cell_type": "code",
   "execution_count": 83,
   "metadata": {},
   "outputs": [],
   "source": [
    "from selectorlib import Extractor\n",
    "e = Extractor.from_yaml_file(\"../temperature.yaml\")"
   ]
  },
  {
   "cell_type": "code",
   "execution_count": 84,
   "metadata": {},
   "outputs": [
    {
     "data": {
      "text/plain": [
       "{'temp': '5\\xa0°C'}"
      ]
     },
     "execution_count": 84,
     "metadata": {},
     "output_type": "execute_result"
    }
   ],
   "source": [
    "e.extract(c)"
   ]
  },
  {
   "cell_type": "code",
   "execution_count": 85,
   "metadata": {},
   "outputs": [
    {
     "data": {
      "text/plain": [
       "{'temp': '5\\xa0°C'}"
      ]
     },
     "execution_count": 85,
     "metadata": {},
     "output_type": "execute_result"
    }
   ],
   "source": [
    "raw_result = e.extract(c)\n",
    "raw_result"
   ]
  },
  {
   "cell_type": "code",
   "execution_count": 95,
   "metadata": {},
   "outputs": [],
   "source": [
    "result = float(raw_result[\"temp\"].replace(\"\\xa0°C\", \"\"))"
   ]
  },
  {
   "cell_type": "code",
   "execution_count": 96,
   "metadata": {},
   "outputs": [
    {
     "data": {
      "text/plain": [
       "5.0"
      ]
     },
     "execution_count": 96,
     "metadata": {},
     "output_type": "execute_result"
    }
   ],
   "source": [
    "result"
   ]
  },
  {
   "cell_type": "code",
   "execution_count": 1,
   "metadata": {},
   "outputs": [],
   "source": [
    "from temperature import Temperature"
   ]
  },
  {
   "cell_type": "code",
   "execution_count": 2,
   "metadata": {},
   "outputs": [],
   "source": [
    "from calorie import Calorie"
   ]
  },
  {
   "cell_type": "code",
   "execution_count": 17,
   "metadata": {},
   "outputs": [],
   "source": [
    "temperature = Temperature(\"croatia\", \"dubrovnik\")\n",
    "t = temperature.get()\n",
    "c = Calorie(100, 192, 41, t)\n"
   ]
  },
  {
   "cell_type": "code",
   "execution_count": 18,
   "metadata": {},
   "outputs": [],
   "source": [
    "cities = [\n",
    "    \"bjelovar\",\n",
    "    \"dubrovnik\",\n",
    "    \"gospic\",\n",
    "    \"karlovac\",\n",
    "    \"osijek\",\n",
    "    \"porec\",\n",
    "    \"pula\",\n",
    "    \"rijeka\",\n",
    "    \"rovinj\",\n",
    "    \"sisak\",\n",
    "    \"slavonski-brod\",\n",
    "    \"split\",\n",
    "    \"varazdin\",\n",
    "    \"zadar\",\n",
    "    \"zagreb\",\n",
    "    \"sibenik\",\n",
    "]"
   ]
  },
  {
   "cell_type": "code",
   "execution_count": 21,
   "metadata": {},
   "outputs": [
    {
     "name": "stdout",
     "output_type": "stream",
     "text": [
      "\n",
      "    Temperature in Bjelovar:\t 11.0\n",
      "\n",
      "    Temperature in Dubrovnik:\t 9.0\n",
      "\n",
      "    Temperature in Gospic:\t 10.0\n",
      "\n",
      "    Temperature in Karlovac:\t 12.0\n",
      "\n",
      "    Temperature in Osijek:\t 11.0\n",
      "\n",
      "    Temperature in Porec:\t 10.0\n",
      "\n",
      "    Temperature in Pula:\t 13.0\n",
      "\n",
      "    Temperature in Rijeka:\t 11.0\n",
      "\n",
      "    Temperature in Rovinj:\t 10.0\n",
      "\n",
      "    Temperature in Sisak:\t 12.0\n",
      "\n",
      "    Temperature in Slavonski-brod:\t 10.0\n",
      "\n",
      "    Temperature in Split:\t 13.0\n",
      "\n",
      "    Temperature in Varazdin:\t 10.0\n",
      "\n",
      "    Temperature in Zadar:\t 14.0\n",
      "\n",
      "    Temperature in Zagreb:\t 10.0\n",
      "\n",
      "    Temperature in Sibenik:\t 14.0\n"
     ]
    }
   ],
   "source": [
    "for city in cities:\n",
    "    temperature = Temperature(\"croatia\", city)\n",
    "    t = temperature.get()\n",
    "    print(f'''\n",
    "    Temperature in {temperature.city.capitalize()}:\\t {t}''')"
   ]
  },
  {
   "cell_type": "code",
   "execution_count": null,
   "metadata": {},
   "outputs": [],
   "source": []
  }
 ],
 "metadata": {
  "kernelspec": {
   "display_name": ".venv",
   "language": "python",
   "name": "python3"
  },
  "language_info": {
   "codemirror_mode": {
    "name": "ipython",
    "version": 3
   },
   "file_extension": ".py",
   "mimetype": "text/x-python",
   "name": "python",
   "nbconvert_exporter": "python",
   "pygments_lexer": "ipython3",
   "version": "3.10.9"
  },
  "orig_nbformat": 4,
  "vscode": {
   "interpreter": {
    "hash": "16a44a80b72f92c66e0f52d81a3e4ba572d0f84ced355941fcebc2340af0600d"
   }
  }
 },
 "nbformat": 4,
 "nbformat_minor": 2
}
